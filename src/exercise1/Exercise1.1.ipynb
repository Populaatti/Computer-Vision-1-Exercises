{
 "cells": [
  {
   "cell_type": "markdown",
   "source": [
    "**Subject: Computer Vision I**</br>\n",
    "\n",
    "**Group: 3**\n",
    "\n",
    "**Authors: Angel Ontiveros, Lassi Laaksosaari**</br>\n",
    "\n",
    "**Exercise 1**\n"
   ],
   "metadata": {
    "collapsed": false,
    "pycharm": {
     "name": "#%% md\n"
    }
   }
  },
  {
   "cell_type": "markdown",
   "source": [
    "## Task 1"
   ],
   "metadata": {
    "collapsed": false,
    "pycharm": {
     "name": "#%% md\n"
    }
   }
  },
  {
   "cell_type": "code",
   "execution_count": 1,
   "outputs": [],
   "source": [
    "import pickle\n",
    "import numpy as np\n",
    "import matplotlib.pyplot as plt\n",
    "\n",
    "def unpickle(path):\n",
    "    with open(path, 'rb') as fo:\n",
    "        dict = pickle.load(fo, encoding='bytes')\n",
    "    return dict"
   ],
   "metadata": {
    "collapsed": false,
    "pycharm": {
     "name": "#%%\n"
    }
   }
  },
  {
   "cell_type": "code",
   "execution_count": 2,
   "outputs": [],
   "source": [
    "#b'batch_label', b'labels', b'data', b'filenames'\n",
    "#initialize data\n",
    "data_path = './cifar-10-batches-py/data_batch_1'\n",
    "test_data_path = './cifar-10-batches-py/test_batch'\n",
    "metadata_path = './cifar-10-batches-py/batches.meta'\n",
    "cifar10 = unpickle(data_path)\n",
    "test_cifar10 = unpickle(test_data_path)\n",
    "metadata = unpickle(metadata_path)\n",
    "classes = {'auto': 1, 'deer':4, 'ship': 8}\n",
    "n = 30\n",
    "n_test = 10\n",
    "labels = np.array(cifar10[b'labels'])\n",
    "data = np.array(cifar10[b'data'], dtype=np.float32)\n",
    "test_labels = np.array(test_cifar10[b'labels'])\n",
    "test_data = np.array(test_cifar10[b'data'], dtype=np.float32)"
   ],
   "metadata": {
    "collapsed": false,
    "pycharm": {
     "name": "#%%\n"
    }
   }
  },
  {
   "cell_type": "code",
   "execution_count": 3,
   "outputs": [],
   "source": [
    "#extracts count number of images from a certain clazz given a source\n",
    "def read_class(clazz, source, source_labels, count):\n",
    "    result = []\n",
    "    accu = 0\n",
    "    for idx, item in enumerate(source_labels):\n",
    "        if accu >= count: break\n",
    "        if item == clazz:\n",
    "            result.append(source[idx])\n",
    "            accu += 1\n",
    "    return np.array(result, dtype=np.float32)"
   ],
   "metadata": {
    "collapsed": false,
    "pycharm": {
     "name": "#%%\n"
    }
   }
  },
  {
   "cell_type": "code",
   "execution_count": 4,
   "outputs": [],
   "source": [
    "#load color data\n",
    "auto_data = read_class(classes['auto'], data, labels, n)\n",
    "deer_data = read_class(classes['deer'], data, labels, n)\n",
    "ship_data = read_class(classes['ship'], data, labels, n)\n",
    "#load color test data\n",
    "auto_test_data = read_class(classes['auto'], test_data, test_labels, n_test)\n",
    "deer_test_data = read_class(classes['deer'], test_data, test_labels, n_test)\n",
    "ship_test_data = read_class(classes['ship'], test_data, test_labels, n_test)"
   ],
   "metadata": {
    "collapsed": false,
    "pycharm": {
     "name": "#%%\n"
    }
   }
  },
  {
   "cell_type": "code",
   "execution_count": 5,
   "outputs": [],
   "source": [
    "#get grayscale data\n",
    "gray_auto_data = np.floor_divide(auto_data.reshape(n, 3, 1024).sum(axis=1), 3)\n",
    "gray_deer_data = np.floor_divide(deer_data.reshape(n, 3, 1024).sum(axis=1), 3)\n",
    "gray_ship_data = np.floor_divide(ship_data.reshape(n, 3, 1024).sum(axis=1), 3)\n",
    "\n",
    "gray_auto_test_data = np.floor_divide(auto_test_data.reshape(n_test, 3, 1024).sum(axis=1), 3)\n",
    "gray_deer_test_data = np.floor_divide(deer_test_data.reshape(n_test, 3, 1024).sum(axis=1), 3)\n",
    "gray_ship_test_data = np.floor_divide(ship_test_data.reshape(n_test, 3, 1024).sum(axis=1), 3)"
   ],
   "metadata": {
    "collapsed": false,
    "pycharm": {
     "name": "#%%\n"
    }
   }
  },
  {
   "cell_type": "code",
   "execution_count": 6,
   "outputs": [
    {
     "name": "stdout",
     "output_type": "stream",
     "text": [
      "(32, 32, 3)\n"
     ]
    },
    {
     "data": {
      "text/plain": "<Figure size 432x288 with 1 Axes>",
      "image/png": "[encoded data removed]"
     },
     "metadata": {
      "needs_background": "light"
     },
     "output_type": "display_data"
    }
   ],
   "source": [
    "#verify color images\n",
    "def cifar10_plot(im):\n",
    "    im_r = im[0:1024].reshape(32, 32)\n",
    "    im_g = im[1024:2048].reshape(32, 32)\n",
    "    im_b = im[2048:].reshape(32, 32)\n",
    "\n",
    "    img = np.dstack((im_r, im_g, im_b)).astype(np.int32)\n",
    "\n",
    "    print(img.shape)\n",
    "    plt.imshow(img)\n",
    "    plt.title(\"example data\")\n",
    "    plt.show()\n",
    "\n",
    "cifar10_plot(deer_test_data[7])"
   ],
   "metadata": {
    "collapsed": false,
    "pycharm": {
     "name": "#%%\n"
    }
   }
  },
  {
   "cell_type": "markdown",
   "source": [],
   "metadata": {
    "collapsed": false,
    "pycharm": {
     "name": "#%% md\n"
    }
   }
  },
  {
   "cell_type": "code",
   "execution_count": 7,
   "outputs": [
    {
     "data": {
      "text/plain": "<matplotlib.image.AxesImage at 0x1de64873bb0>"
     },
     "execution_count": 7,
     "metadata": {},
     "output_type": "execute_result"
    },
    {
     "data": {
      "text/plain": "<Figure size 432x288 with 1 Axes>",
      "image/png": "[encoded data removed]"
     },
     "metadata": {
      "needs_background": "light"
     },
     "output_type": "display_data"
    }
   ],
   "source": [
    "#verify gray scale images\n",
    "plt.title(\"example test data\")\n",
    "plt.imshow(gray_deer_test_data[7].reshape(32, 32), cmap='gray', vmin=0, vmax=255)"
   ],
   "metadata": {
    "collapsed": false,
    "pycharm": {
     "name": "#%%\n"
    }
   }
  },
  {
   "cell_type": "code",
   "execution_count": 8,
   "outputs": [],
   "source": [
    "class HistClassifier:\n",
    "    def __init__(self):\n",
    "        self.auto_hist = None\n",
    "        self.deer_hist = None\n",
    "        self.ship_hist = None\n",
    "\n",
    "        self.auto_test_hist = None\n",
    "        self.deer_test_hist = None\n",
    "        self.ship_test_hist = None\n",
    "\n",
    "    def create_hists(self, n_bins):\n",
    "        self.auto_hist = np.array([np.histogram(data, bins=n_bins)[0] for data in gray_auto_data])\n",
    "        self.deer_hist = np.array([np.histogram(data, bins=n_bins)[0] for data in gray_deer_data])\n",
    "        self.ship_hist = np.array([np.histogram(data, bins=n_bins)[0] for data in gray_ship_data])\n",
    "\n",
    "        self.auto_test_hist = np.array([np.histogram(data, bins=n_bins)[0] for data in gray_auto_test_data])\n",
    "        self.deer_test_hist = np.array([np.histogram(data, bins=n_bins)[0] for data in gray_deer_test_data])\n",
    "        self.ship_test_hist = np.array([np.histogram(data, bins=n_bins)[0] for data in gray_ship_test_data])\n",
    "\n",
    "    def classify(self, img_hist):\n",
    "        auto_dist = [np.linalg.norm((img_hist - cur_hist)) for cur_hist in self.auto_hist]\n",
    "        auto_dist_min = np.min(auto_dist)\n",
    "        deer_dist = [np.linalg.norm((img_hist - cur_hist)) for cur_hist in self.deer_hist]\n",
    "        deer_dist_min = np.min(deer_dist)\n",
    "        ship_dist = [np.linalg.norm((img_hist - cur_hist)) for cur_hist in self.ship_hist]\n",
    "        ship_dist_min = np.min(ship_dist)\n",
    "        overall_min = min(auto_dist_min, deer_dist_min, ship_dist_min)\n",
    "        if overall_min == auto_dist_min:\n",
    "            return 'auto'\n",
    "        elif overall_min == deer_dist_min:\n",
    "            return 'deer'\n",
    "        else:\n",
    "            return 'ship'\n"
   ],
   "metadata": {
    "collapsed": false,
    "pycharm": {
     "name": "#%%\n"
    }
   }
  },
  {
   "cell_type": "code",
   "execution_count": 9,
   "outputs": [],
   "source": [
    "def run(n_bins):\n",
    "    accu_auto = 0\n",
    "    accu_deer = 0\n",
    "    accu_ship = 0\n",
    "    classifier = HistClassifier()\n",
    "    classifier.create_hists(n_bins)\n",
    "\n",
    "    for img_hist in classifier.auto_test_hist:\n",
    "        if classifier.classify(img_hist) == 'auto':\n",
    "            accu_auto += 1\n",
    "    for img_hist in classifier.deer_test_hist:\n",
    "        if classifier.classify(img_hist) == 'deer':\n",
    "            accu_deer += 1\n",
    "    for img_hist in classifier.ship_test_hist:\n",
    "        if classifier.classify(img_hist) == 'ship':\n",
    "            accu_ship += 1\n",
    "\n",
    "    print(f'running with {n_bins} bins...')\n",
    "    print(f'auto accuracy: {(accu_auto/n_test)*100}%')\n",
    "    print(f'deer accuracy: {(accu_deer/n_test)*100}%')\n",
    "    print(f'ship accuracy: {(accu_ship/n_test)*100}%')\n",
    "    print('overall accuracy is: ', ((accu_auto + accu_deer + accu_ship) / (n_test*3))*100,'%')"
   ],
   "metadata": {
    "collapsed": false,
    "pycharm": {
     "name": "#%%\n"
    }
   }
  },
  {
   "cell_type": "code",
   "execution_count": 10,
   "outputs": [
    {
     "name": "stdout",
     "output_type": "stream",
     "text": [
      "running with 51 bins...\n",
      "auto accuracy: 60.0%\n",
      "deer accuracy: 50.0%\n",
      "ship accuracy: 30.0%\n",
      "overall accuracy is:  46.666666666666664 %\n"
     ]
    }
   ],
   "source": [
    "run(n_bins=51)"
   ],
   "metadata": {
    "collapsed": false,
    "pycharm": {
     "name": "#%%\n"
    }
   }
  },
  {
   "cell_type": "code",
   "execution_count": 11,
   "outputs": [
    {
     "name": "stdout",
     "output_type": "stream",
     "text": [
      "running with 2 bins...\n",
      "auto accuracy: 40.0%\n",
      "deer accuracy: 40.0%\n",
      "ship accuracy: 50.0%\n",
      "overall accuracy is:  43.333333333333336 %\n"
     ]
    }
   ],
   "source": [
    "run(n_bins=2)"
   ],
   "metadata": {
    "collapsed": false,
    "pycharm": {
     "name": "#%%\n"
    }
   }
  },
  {
   "cell_type": "code",
   "execution_count": 12,
   "outputs": [
    {
     "name": "stdout",
     "output_type": "stream",
     "text": [
      "running with 10 bins...\n",
      "auto accuracy: 50.0%\n",
      "deer accuracy: 60.0%\n",
      "ship accuracy: 50.0%\n",
      "overall accuracy is:  53.333333333333336 %\n"
     ]
    }
   ],
   "source": [
    "run(n_bins=10)"
   ],
   "metadata": {
    "collapsed": false,
    "pycharm": {
     "name": "#%%\n"
    }
   }
  },
  {
   "cell_type": "code",
   "execution_count": 13,
   "outputs": [
    {
     "name": "stdout",
     "output_type": "stream",
     "text": [
      "running with 30 bins...\n",
      "auto accuracy: 50.0%\n",
      "deer accuracy: 50.0%\n",
      "ship accuracy: 30.0%\n",
      "overall accuracy is:  43.333333333333336 %\n"
     ]
    }
   ],
   "source": [
    "run(n_bins=30)"
   ],
   "metadata": {
    "collapsed": false,
    "pycharm": {
     "name": "#%%\n"
    }
   }
  },
  {
   "cell_type": "code",
   "execution_count": 14,
   "outputs": [
    {
     "name": "stdout",
     "output_type": "stream",
     "text": [
      "running with 40 bins...\n",
      "auto accuracy: 50.0%\n",
      "deer accuracy: 60.0%\n",
      "ship accuracy: 30.0%\n",
      "overall accuracy is:  46.666666666666664 %\n"
     ]
    }
   ],
   "source": [
    "run(n_bins=40)"
   ],
   "metadata": {
    "collapsed": false,
    "pycharm": {
     "name": "#%%\n"
    }
   }
  },
  {
   "cell_type": "code",
   "execution_count": 15,
   "outputs": [
    {
     "name": "stdout",
     "output_type": "stream",
     "text": [
      "running with 100 bins...\n",
      "auto accuracy: 50.0%\n",
      "deer accuracy: 40.0%\n",
      "ship accuracy: 30.0%\n",
      "overall accuracy is:  40.0 %\n"
     ]
    }
   ],
   "source": [
    "run(n_bins=100)"
   ],
   "metadata": {
    "collapsed": false,
    "pycharm": {
     "name": "#%%\n"
    }
   }
  },
  {
   "cell_type": "code",
   "execution_count": 16,
   "outputs": [
    {
     "name": "stdout",
     "output_type": "stream",
     "text": [
      "running with 255 bins...\n",
      "auto accuracy: 70.0%\n",
      "deer accuracy: 30.0%\n",
      "ship accuracy: 10.0%\n",
      "overall accuracy is:  36.666666666666664 %\n"
     ]
    }
   ],
   "source": [
    "run(n_bins=255)"
   ],
   "metadata": {
    "collapsed": false,
    "pycharm": {
     "name": "#%%\n"
    }
   }
  }
 ],
 "metadata": {
  "kernelspec": {
   "display_name": "Python 3",
   "language": "python",
   "name": "python3"
  },
  "language_info": {
   "codemirror_mode": {
    "name": "ipython",
    "version": 2
   },
   "file_extension": ".py",
   "mimetype": "text/x-python",
   "name": "python",
   "nbconvert_exporter": "python",
   "pygments_lexer": "ipython2",
   "version": "2.7.6"
  }
 },
 "nbformat": 4,
 "nbformat_minor": 0
}